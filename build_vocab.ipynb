{
 "cells": [
  {
   "cell_type": "code",
   "execution_count": 2,
   "metadata": {},
   "outputs": [],
   "source": [
    "\n",
    "import pandas as pd\n",
    "from tqdm import tqdm\n",
    "tqdm.pandas()"
   ]
  },
  {
   "cell_type": "code",
   "execution_count": 3,
   "metadata": {
    "tags": []
   },
   "outputs": [
    {
     "output_type": "stream",
     "name": "stdout",
     "text": "Train shape :  (20345, 7)\nTest shape :  (5086, 6)\n"
    }
   ],
   "source": [
    "train = pd.read_csv(\"data/train.csv\")\n",
    "test = pd.read_csv(\"data/test.csv\")\n",
    "print(\"Train shape : \",train.shape)\n",
    "print(\"Test shape : \",test.shape)"
   ]
  },
  {
   "cell_type": "code",
   "execution_count": 4,
   "metadata": {},
   "outputs": [],
   "source": [
    "\n",
    "def build_vocab(sentences, verbose =  True):\n",
    "    \"\"\"\n",
    "    :param sentences: list of list of words\n",
    "    :return: dictionary of words and their count\n",
    "    \"\"\"\n",
    "    vocab = {}\n",
    "    for sentence in tqdm(sentences, disable = (not verbose)):\n",
    "        for word in sentence:\n",
    "            try:\n",
    "                vocab[word] += 1\n",
    "            except KeyError:\n",
    "                vocab[word] = 1\n",
    "    return vocab"
   ]
  },
  {
   "cell_type": "code",
   "execution_count": 5,
   "metadata": {
    "tags": []
   },
   "outputs": [
    {
     "output_type": "stream",
     "name": "stderr",
     "text": "100%|██████████| 20345/20345 [00:00<00:00, 139887.14it/s]\n100%|██████████| 20345/20345 [00:00<00:00, 179881.56it/s]{'\"đồ': 20, 'đẹp': 850, 'mà': 1580, 'không': 1923, 'tậu': 6}\n\n"
    }
   ],
   "source": [
    "sentences = train[\"free_text\"].progress_apply(lambda x: x.split()).values\n",
    "vocab = build_vocab(sentences)\n",
    "print({k: vocab[k] for k in list(vocab)[:5]})"
   ]
  },
  {
   "cell_type": "code",
   "execution_count": 6,
   "metadata": {
    "tags": []
   },
   "outputs": [
    {
     "output_type": "stream",
     "name": "stdout",
     "text": "WARNING: pip is being invoked by an old script wrapper. This will fail in a future version of pip.\nPlease see https://github.com/pypa/pip/issues/5599 for advice on fixing the underlying issue.\nTo avoid this problem you can invoke Python with '-m pip' instead of running pip directly.\nDefaulting to user installation because normal site-packages is not writeable\nLooking in indexes: https://pypi.org/simple, https://packagecloud.io/github/git-lfs/pypi/simple\nRequirement already satisfied: gensim in /home/redbox/.local/lib/python3.8/site-packages (3.8.3)\nRequirement already satisfied: numpy>=1.11.3 in /home/redbox/.local/lib/python3.8/site-packages (from gensim) (1.18.5)\nRequirement already satisfied: six>=1.5.0 in /usr/lib/python3.8/site-packages (from gensim) (1.14.0)\nRequirement already satisfied: smart-open>=1.8.1 in /home/redbox/.local/lib/python3.8/site-packages (from gensim) (2.1.0)\nRequirement already satisfied: scipy>=0.18.1 in /home/redbox/.local/lib/python3.8/site-packages (from gensim) (1.4.1)\nRequirement already satisfied: requests in /usr/lib/python3.8/site-packages (from smart-open>=1.8.1->gensim) (2.22.0)\nRequirement already satisfied: boto in /home/redbox/.local/lib/python3.8/site-packages (from smart-open>=1.8.1->gensim) (2.49.0)\nRequirement already satisfied: boto3 in /home/redbox/.local/lib/python3.8/site-packages (from smart-open>=1.8.1->gensim) (1.14.16)\nRequirement already satisfied: chardet<3.1.0,>=3.0.2 in /usr/lib/python3.8/site-packages (from requests->smart-open>=1.8.1->gensim) (3.0.4)\nRequirement already satisfied: idna<2.9,>=2.5 in /usr/lib/python3.8/site-packages (from requests->smart-open>=1.8.1->gensim) (2.8)\nRequirement already satisfied: urllib3!=1.25.0,!=1.25.1,<1.26,>=1.21.1 in /usr/lib/python3.8/site-packages (from requests->smart-open>=1.8.1->gensim) (1.25.7)\nRequirement already satisfied: s3transfer<0.4.0,>=0.3.0 in /home/redbox/.local/lib/python3.8/site-packages (from boto3->smart-open>=1.8.1->gensim) (0.3.3)\nRequirement already satisfied: jmespath<1.0.0,>=0.7.1 in /home/redbox/.local/lib/python3.8/site-packages (from boto3->smart-open>=1.8.1->gensim) (0.10.0)\nRequirement already satisfied: botocore<1.18.0,>=1.17.16 in /home/redbox/.local/lib/python3.8/site-packages (from boto3->smart-open>=1.8.1->gensim) (1.17.16)\nRequirement already satisfied: docutils<0.16,>=0.10 in /home/redbox/.local/lib/python3.8/site-packages (from botocore<1.18.0,>=1.17.16->boto3->smart-open>=1.8.1->gensim) (0.15.2)\nRequirement already satisfied: python-dateutil<3.0.0,>=2.1 in /usr/lib/python3.8/site-packages (from botocore<1.18.0,>=1.17.16->boto3->smart-open>=1.8.1->gensim) (2.8.0)\n"
    }
   ],
   "source": [
    "!pip3 install gensim"
   ]
  },
  {
   "cell_type": "code",
   "execution_count": 7,
   "metadata": {},
   "outputs": [],
   "source": [
    "\n",
    "from gensim.models import KeyedVectors\n",
    "from gensim.test.utils import datapath\n",
    "news_path = '/home/redbox/toxic-comment-vietnamese/vi/baomoi.window2.vn.model.bin'\n",
    "embeddings_index = KeyedVectors.load_word2vec_format(datapath(news_path), binary=True, encoding='utf8',unicode_errors='ignore')"
   ]
  },
  {
   "cell_type": "code",
   "execution_count": 8,
   "metadata": {},
   "outputs": [],
   "source": [
    "import operator \n",
    "\n",
    "def check_coverage(vocab,embeddings_index):\n",
    "    a = {}\n",
    "    oov = {}\n",
    "    k = 0\n",
    "    i = 0\n",
    "    for word in tqdm(vocab):\n",
    "        try:\n",
    "            a[word] = embeddings_index[word]\n",
    "            k += vocab[word]\n",
    "        except:\n",
    "\n",
    "            oov[word] = vocab[word]\n",
    "            i += vocab[word]\n",
    "            pass\n",
    "\n",
    "    print('Found embeddings for {:.2%} of vocab'.format(len(a) / len(vocab)))\n",
    "    print('Found embeddings for  {:.2%} of all text'.format(k / (k + i)))\n",
    "    sorted_x = sorted(oov.items(), key=operator.itemgetter(1))[::-1]\n",
    "\n",
    "    return sorted_x"
   ]
  },
  {
   "cell_type": "code",
   "execution_count": 9,
   "metadata": {
    "tags": []
   },
   "outputs": [
    {
     "output_type": "stream",
     "name": "stderr",
     "text": "100%|██████████| 35141/35141 [00:00<00:00, 258858.18it/s]Found embeddings for 47.67% of vocab\nFound embeddings for  85.21% of all text\n\n"
    }
   ],
   "source": [
    "oov = check_coverage(vocab,embeddings_index)"
   ]
  },
  {
   "cell_type": "code",
   "execution_count": 10,
   "metadata": {},
   "outputs": [
    {
     "output_type": "execute_result",
     "data": {
      "text/plain": "[('vl\"', 4248),\n ('nha\"', 385),\n ('nhé\"', 199),\n ('di\"', 196),\n ('phòng\"', 194),\n ('\"có', 193),\n ('thương\"', 145),\n ('nhi\"', 144),\n ('rồi\"', 128),\n ('thư\"', 124),\n ('sđt\"', 118),\n ('ngu\"', 117),\n ('nguyễn\"', 114),\n ('chó\"', 114),\n ('\"ai', 109),\n ('\"vl', 105),\n ('\"nhìn', 102),\n ('\"anh', 102),\n ('\"em', 101),\n ('lê\"', 96),\n ('trân\"', 96),\n ('\"phạm', 95),\n ('người_ta', 89),\n ('\"cái', 86),\n ('\"đm', 86)]"
     },
     "metadata": {},
     "execution_count": 10
    }
   ],
   "source": [
    "oov[:25]\n"
   ]
  },
  {
   "cell_type": "code",
   "execution_count": 11,
   "metadata": {},
   "outputs": [],
   "source": [
    "train['free_text']= train.free_text.str.replace('\"', ' ')\n"
   ]
  },
  {
   "cell_type": "code",
   "execution_count": 12,
   "metadata": {},
   "outputs": [
    {
     "output_type": "execute_result",
     "data": {
      "text/plain": "   Unnamed: 0                id  \\\n0           0  train_aabeeyfurc   \n1           1  train_aabetrttaa   \n2           2  train_aaccolapwa   \n3           3  train_aacoaahwdb   \n4           4  train_aaczjqfhfk   \n\n                                           free_text  label_id  CLEAN  \\\n0   đồ đẹp mà không tậu cho mình một bộ là có lỗi...         0    1.0   \n1                                           ngáo vl          0    1.0   \n2                                     son nhiu mimi          0    1.0   \n3                      hanh ha lâm hằng hang nguyen          0    1.0   \n4   nguyen tam_to the group chợ chung_cư petrolan...         0    1.0   \n\n   OFFENSIVE  HATE  \n0        0.0   0.0  \n1        0.0   0.0  \n2        0.0   0.0  \n3        0.0   0.0  \n4        0.0   0.0  ",
      "text/html": "<div>\n<style scoped>\n    .dataframe tbody tr th:only-of-type {\n        vertical-align: middle;\n    }\n\n    .dataframe tbody tr th {\n        vertical-align: top;\n    }\n\n    .dataframe thead th {\n        text-align: right;\n    }\n</style>\n<table border=\"1\" class=\"dataframe\">\n  <thead>\n    <tr style=\"text-align: right;\">\n      <th></th>\n      <th>Unnamed: 0</th>\n      <th>id</th>\n      <th>free_text</th>\n      <th>label_id</th>\n      <th>CLEAN</th>\n      <th>OFFENSIVE</th>\n      <th>HATE</th>\n    </tr>\n  </thead>\n  <tbody>\n    <tr>\n      <th>0</th>\n      <td>0</td>\n      <td>train_aabeeyfurc</td>\n      <td>đồ đẹp mà không tậu cho mình một bộ là có lỗi...</td>\n      <td>0</td>\n      <td>1.0</td>\n      <td>0.0</td>\n      <td>0.0</td>\n    </tr>\n    <tr>\n      <th>1</th>\n      <td>1</td>\n      <td>train_aabetrttaa</td>\n      <td>ngáo vl</td>\n      <td>0</td>\n      <td>1.0</td>\n      <td>0.0</td>\n      <td>0.0</td>\n    </tr>\n    <tr>\n      <th>2</th>\n      <td>2</td>\n      <td>train_aaccolapwa</td>\n      <td>son nhiu mimi</td>\n      <td>0</td>\n      <td>1.0</td>\n      <td>0.0</td>\n      <td>0.0</td>\n    </tr>\n    <tr>\n      <th>3</th>\n      <td>3</td>\n      <td>train_aacoaahwdb</td>\n      <td>hanh ha lâm hằng hang nguyen</td>\n      <td>0</td>\n      <td>1.0</td>\n      <td>0.0</td>\n      <td>0.0</td>\n    </tr>\n    <tr>\n      <th>4</th>\n      <td>4</td>\n      <td>train_aaczjqfhfk</td>\n      <td>nguyen tam_to the group chợ chung_cư petrolan...</td>\n      <td>0</td>\n      <td>1.0</td>\n      <td>0.0</td>\n      <td>0.0</td>\n    </tr>\n  </tbody>\n</table>\n</div>"
     },
     "metadata": {},
     "execution_count": 12
    }
   ],
   "source": [
    "train.head()"
   ]
  },
  {
   "cell_type": "code",
   "execution_count": 13,
   "metadata": {
    "tags": []
   },
   "outputs": [
    {
     "output_type": "stream",
     "name": "stderr",
     "text": "100%|██████████| 20345/20345 [00:00<00:00, 184453.78it/s]\n"
    }
   ],
   "source": [
    "sentences = train[\"free_text\"].apply(lambda x: x.split())\n",
    "vocab = build_vocab(sentences)"
   ]
  },
  {
   "cell_type": "code",
   "execution_count": 14,
   "metadata": {
    "tags": []
   },
   "outputs": [
    {
     "output_type": "stream",
     "name": "stderr",
     "text": "100%|██████████| 27942/27942 [00:00<00:00, 293843.05it/s]Found embeddings for 64.91% of vocab\nFound embeddings for  95.79% of all text\n\n"
    }
   ],
   "source": [
    "oov = check_coverage(vocab,embeddings_index)\n"
   ]
  },
  {
   "cell_type": "code",
   "execution_count": 15,
   "metadata": {},
   "outputs": [
    {
     "output_type": "execute_result",
     "data": {
      "text/plain": "[('hahak', 111),\n ('người_ta', 104),\n ('di_đà', 81),\n ('tiktok', 79),\n ('douyin', 71),\n ('tranchauden', 71),\n ('excited', 43),\n ('nhaaa', 40),\n ('hot_hit', 33),\n ('ahihi', 32)]"
     },
     "metadata": {},
     "execution_count": 15
    }
   ],
   "source": [
    "oov[:10]\n"
   ]
  },
  {
   "cell_type": "code",
   "execution_count": 34,
   "metadata": {},
   "outputs": [],
   "source": [
    "def text_remove(t):\n",
    "    new = []\n",
    "    for id in range(len(t)-1):\n",
    "        if t[id]!=t[id+1]:\n",
    "            new.append(t[id])\n",
    "    new.append(t[-1])\n",
    "\n",
    "    return ''.join(new)\n"
   ]
  },
  {
   "cell_type": "code",
   "execution_count": 35,
   "metadata": {
    "tags": []
   },
   "outputs": [
    {
     "output_type": "stream",
     "name": "stderr",
     "text": "100%|██████████| 20345/20345 [00:00<00:00, 41559.66it/s]\n100%|██████████| 20345/20345 [00:00<00:00, 209319.61it/s]\n100%|██████████| 20345/20345 [00:00<00:00, 110997.37it/s]\n"
    }
   ],
   "source": [
    "train[\"question_text\"] = train[\"free_text\"].progress_apply(lambda x: text_remove(x))\n",
    "sentences = train[\"question_text\"].progress_apply(lambda x: x.split())\n",
    "\n",
    "vocab = build_vocab(sentences)"
   ]
  },
  {
   "cell_type": "code",
   "execution_count": 36,
   "metadata": {
    "tags": []
   },
   "outputs": [
    {
     "output_type": "stream",
     "name": "stderr",
     "text": "100%|██████████| 27038/27038 [00:00<00:00, 217387.44it/s]Found embeddings for 65.71% of vocab\nFound embeddings for  95.87% of all text\n\n"
    }
   ],
   "source": [
    "oov = check_coverage(vocab,embeddings_index)\n"
   ]
  },
  {
   "cell_type": "code",
   "execution_count": 31,
   "metadata": {},
   "outputs": [
    {
     "output_type": "execute_result",
     "data": {
      "text/plain": "[('hahak', 111),\n ('người_ta', 104),\n ('di_đà', 81),\n ('tiktok', 79),\n ('douyin', 71),\n ('tranchauden', 71),\n ('oficial', 58),\n ('fresize', 51),\n ('folow', 50),\n ('hapy', 44)]"
     },
     "metadata": {},
     "execution_count": 31
    }
   ],
   "source": [
    "oov[:10]"
   ]
  },
  {
   "cell_type": "code",
   "execution_count": 47,
   "metadata": {
    "tags": [
     "outputPrepend"
    ]
   },
   "outputs": [
    {
     "output_type": "stream",
     "name": "stdout",
     "text": "ộc\nsharmal_dissnayake\nalgonquin\ndebkafile\nxavier_samuel\nhawtai\nmauricio_victorino\niar\nphan_huệ\nnhị_Độ\nsimonsen\ntiểu_cơ\ngamla_stan\nsnape\nmukarurinda\nbùi_mạnh_tiến\nthẩm_thần_huy\nparties\ndoyley\ndothraki\nchợ_rịa\ndương_văn_chương\nin_hybrid\nmát_tính\nkhủ\nđầu_tư_thông_minh\nphạm_Đình_hiệp\npines\nducdongho\nchieng_mai\ngordeeva\nĐinh_thị_hải\nsander\nthiên_tử_online\nneymar_sr\nbùi_văn_tuyên\ndonaco_international\nenna\nacetylcystein\ntăng_Âm_quyền\ninjo\n*hôm\nlaguna_seca\nphuong_le\ngoodson\nlê_mạnh\ntam_tòng_tứ_đức\nmàn_trời\nsinco\nđư­ờng\ntiền_vận\nvõ_trứ\ncô_Đồng_quyến\ntrâm_oanh\ntÃ­ch\nmistake\ncnet_asia\nviệt_pax_thiên\nvào_sinh\nnguyễn_thị_vượng\nnhóm_bố\nquang_tâm\nnguyễn_minh_chí\ntoni_morrison\ntteokbokki\nbản_ba\nkiểm_xạ\nlược_đồ\nfranklin_templeton_investments\nÔ_lâm\nbùi_thị_lan_hương\nturritopsis\n_lạch_huyện\nrecoba\nglycine\nporos\nma_thành\nthương_binh_xã_hội\nkhairy\ncồn_sơn\ntoop\nlan_chín\ncapacity\nmôi_xinh\nisolde\nvõ_văn_Đức_bảy\nfaseb\ncindy_chang\neabia\ntoshiba_corp\nĐỗ_thị_kim_hoa\nsmart_manager\ngiàng_thị_sua\nbabysan\ntrần_thị_m\ntư_khánh\nuế_tạp\nrhoades\ncao_ban_long\nbimmer\nmrk\nneak_tà\nnếu_xử_nữ\ntriều_tiên_kim_yong_nam\nphạm_thị_hoàng_anh\nkẻ_bất_bại\nđầu_bảng_tổng_sắp\nmalaysian_open\nyu_yang\npaul_stephenson\nsunwear\nĐắc_ngo\ntôn_Đại\nvịnh_lan_hạ\nchứng_tỏ_tình_hình\nkln\ndagenham\nĐức_tín\nlinde\nbelay\nmủi\nĐ_qatar\nnka\nhét_ra\nmobile_thị_trường\nukraine_vitaly_klitschko\nsmooth_criminal\nmilo_moire\ntdtts\nalesha_dixon\nthanh_Định\nyunnan\nparanưng\ncentennial_college\naevg\nlê_thị_nghĩa\ntechconvina\ntmj\njung_hoon\nngô_văn_công\ndavid_thwaites\ninterlaken\naishwarya_rai_bachchan\ntrúc_chi\nbộ_bảo_vệ\ncup_nutifood\nphú_nhi\nbáo_ninh_thuận\nviÊn\nperforming\ngreta_garbo\nnguyễn_thị_bích_nhiệm\nhứa_kỳ_lượng\nthaichote\nyugo_kobayashi\nÃ¡nh\nformby\nschlaudraff\nsyn\nliệu_liệu\nhoàng_văn_dưỡng\nbobsleigh\nđất_nước_hàng\npuama\nhorsetail_rush\ncái_sai\nchim_khách\ndao_yếm\ntrúc|tín\noliver_torres\nultimate_arcade_inc\nĐức_bình_tây\nmai_thanh_dung\nhồ_hữu_Ái\nra_sức_mạnh\ngang_thép_thái_nguyên\nmichel_tosto\nurubamba\nal_kamarah\nlê_hoàng_bích_phượng\nlê_viết_ly\ncolin_fleming\npotiguar\nĐậu_thị_thu\nĐồng_chưa\ntrương_duy\nĐỗ_văn_cành\nngòa\nsampling\ncate_blanchet\ntrần_trọng_bình\nngô_Đức\ntrần_phương_thúy\nĐặng_minh_thế\ncagiva\neisen_hurt\nnậm_hóa\nspike_lee\nnguyễn_kim_tiền\nvinaga\nkẻ_gian_lận\nviềng_nam_trực\nndjodo_edouard\ngideon\nglobal_sources\ntờ_trình_trình\nlifting\nthần_đồng_Đất_việt\nolesya_stefanko\ntaitung\nivan_dias\nsinohydrro_corporation_limitted\nvila_cruzeiro\njuki\nngọc_nương\nrayo_vallaceno\nhamadoun_toure\nslovak\nhà_nội_academy\nhan_solo\nrika_okada\npark_joon_geum\nawm\nthảm_Đỏ\nchâu_khương\nhvqy\nnguyễn_thị_quyết\nneo_cáp\ngastao_elias\nsông_giang\nngô_văn_tuyến\nvọng_khuyết\ntradestation\nvứi\nsúat\nhattie\nunaoc\nkết_hợp_phần\nstepanov\nthuduchouse_apartment\nkulkarni\nlê_Đức_luận\nserevina\nĐăk_môn\nla_mirada_theatre\ntara_conner\nhoàng_phương_gửi\ncraig_zadan\ntrung_quốc_cấm\nnội_bất_xuất_ngoại_bất_nhập\nz_one\ntian_houwei\nzila_neelum\ncbyt\nshinhan_vina\nzverotic\nsstc\nthiên_khí\nactive_directory\nmatthew_klunder\nbeginning\nnature_medicine\nvaughn\ncư_sỹ\nbặp\ntuyên_truyền_đạo\ncavour\nignore\nngày_thầy_thuốc\nbình_chân\nĐặng_thị_loan\nnà_cà\nbàn_chân_như\nvideocall\nkarl_hooper\nphạm_thị_hải_yến\nthích_thiện_tâm\ntrần_hùng_dũng\nlocations\nchánh_trực\nnguyễn_mạnh_hồng\nĐắk_rông\ndoanhkinh\nla_colmenita\nfrank_dancevic\nnước_mềm\ngala_album\nchungcheong\ncaux_montreaux\nvịnh_manila\nhercegovina\ngiơi\nhomes_limited\nlược_thưa\npractice_online\nhot_summer_days\nmamen_sanz\nhá_há\nall_star_metals\nvũ_quang_trung\nlewis_carroll\nsergio_pinto\ntrần_tuấn_hiệp\nekho_moskvy\nphạm_minh_châu\n_bí_thư\nbạch_phiến\nbái_Đô\ngordon_moore\nfrahcisco_favier\nqbt\nqbb\nlê_khắc_chính\nmegastar_xuân_Đỉnh\nteam_ozone_vietnam\nthassone\ndự_tòa\nmethadol\nĐinh_ngọc\nnguyễn_thanh_Định\ncăt\ncù_dù\ninmasco\nphiliipines\npanthéon\nnghiêm_sĩ_minh\nngóe\niagrai\nsao_kpop\nkwasnik\nichimoku\nhỏa_long\ncao_tiến_Đức\ngiãm\ndàn_bè\nđỏ_nhừ\nkinh_dương\nlĐvn\ncảnh_sát_viên\nnewsfeed\nmạch_tràng\ntrương_ngọc_thạch\nargentina_sergio_aguero\nnguyễn_bắc\nnguyễn_ngọc_bảng\nia_r\nchu_châu\nlâm_Động\nninth\nsoleyanne_baland\npansori\na_đoạn\nbắc_israel\nnguyễn_huy_an\nphương_quang\nlọ_bon\ndensavan\nalexandre_de_rhodes\nmanuela_escobar\nnguyễn_vũ_thùy_dương\nan_nam_cộng_sản\nolympics_london\nrpd\nlêu_đêu\ngianfranco_lanci\nđịnh_hình_như\nalexei_navalny\ndântrí\ndanisa\nngô_thanh_hải\ncầu_an_Đông\nvikhr\nasean–wen\nmỹ_stan_kroenke\nvõ_thị_thanh\nxmm\npizza_việt_nam\nnguyễn_kim_hải\na_thun\ncảc\nnguyễn_thành_liêm\nnhất_Đắk_lắk\nhatcher\ntpth\nnguyễn_phúc_hùng\nga_eul\nkehm\nchosen\nviresa\npĐgiót\nđánh_hôi\nlaurent_witz\nnguyễn_thị_tuyên\nlongdd\nhuỳnh_minh_trí\ntrưng_Đông\nefvietnam\nedathy\nnguyễn_Đức_bảo_duy\nvngo\nsivakorn_pu\nmaqsood\nbellemag\nnhà_c\nlê_tuấn_vũ\naudi_quattro\ngia_bẢo\ndự_hội_thảo\nalison_arngrim\nlễ_tuyên_dương\nghềnh_thác\nxpphone\nsong_jae_hee\ncápcadơ\nvăn_uyên\nmichael_todd\nhoàng_quốc_Định\nrút_tiền_mặt\nyummy\nminh_kiệt\ntrung_mexico\nuyen_linh\nmiscault\nvỏ_bào\noàng\n_cầu_bông\nfacebook_credits\nĐặng_minh_thuần\nbonas\nmai_phước_nghê\ntiffany_chung\nhuyền_tím\ntrần_huy_chiến\nnhẤn\nhn&g\nxớ_rớ\ngarden_villas\ncung_kim_ngưu\nthật_sự_tích_cực\nissues\n%s\ncây_xanh_tươi_tốt\nphụ_gia_bảo_quản\nhma\njackson_rathbone\nphân_rác\nôn_bài\nvỊ\nbùi_văn_phượng\nnhảy_múa_hát\nfreja_beha_erichsen\nguns_n\nvõ_Đức_bình\ntrần_Đông_a\nnguyễn_lê_hà\nngày_tiết_kiệm\nnguyễn_văn_giàng\nluynh\napho\nnguyễn_Đình_chúc\nlê_kim_anh\nvũ_bích_hường\nshading\nhà_thị_hằng\nbershka\nhông_mỹ\nlê_vĩnh_thái\nra_tay_trong\nđẵng\npaul_cox\nphạm_khả_thảo\nventa\nwuthering_heights\nnguyễn_thị_lai\naesop\nhuế_Ảnh\nmitad\nĐiệp_giang\ntr­ương\nlê_xuân_luyện\nvrn\nbotanic\nchép_chép\ncầu_bà\nhuỳnh_thanh\ncrif\ndẽo\nipf\ncao_tùng_lâm\nindia_today\nhiểu_quang\ntrần_văn_thiên\ngia_hoàn\nthank_you\nrsk\nprocesses\nmễ_thượng\ngalaxy_z\nphùng_minh_cường\nmotoactv\nmycloud\nazal\nnhựt_hoàng\nsình_a_lầu\nan_duyên\npineda\nmadeleine_albright\nfusal\nroissy\nchắn_xích\nvị_bình\nnăm$\nsleeping_dogs\njonathan_mann\nphần_hội\nvsop\nnam_thần\nmai_dung\nscavids\nextravagant_challenge\nnổi_u\ngáng\nĐồng_vị\ngstc\nllareta\nrocio_gancedo\notherland\nchí_ít_ra\nnonono\nĐiều_bá_Được\ndambri_challenge\nnâng_cấp_độ_phân_giải\nchỗng\nbaker_street\nltq\ntừ_láy\npv_power\nmường_phìn\nloner\nranko\nrima_thanh_vy\nnguyễn_tuyết_dương\nĐỗ_quốc_quý\nochieng\ncdd\ndispute\nlê_tín\nplano\nlottecinema\nkvsc\npieces\nnhà_nọ\nĐàm_quang_minh\nphạm_văn_quyết\nnguyễn_văn_xuyên\nhội_tam\nhà_việt_thắng\npostinor\nĐậu_văn_hùng\nphở_tết\ndominium\nnội_nhật\nhuyền_phù\ntrần_liên\nthế_kỷ_rưỡi\nphân_mục\nobutto\ntrump_tower\ncho_hae_ryong\ndevis_mangia\nthe_independent_critics\nthuẬn_thẮng\nhoàng_xuân_tuấn_anh\nvinpearl_hội_an\nquantas\njane_goodall\ndương_thanh_xuân\nnyd\ncocktails\nkermit\nwijnaldum\ndứt_điểm_số\nmoj\nphotosynth\nhumphreys\nhoa_anh_đào\nantisleep\nibookstore\nnguyễn_thành_lân\nvalentine_Đen\nikumi_yoshimatsu\nattapu\njunichi_inamoto\ntrần_quang_hoài\ngerasimenko\nnguyễn_Đức_phúc\nthe_room_two\nnếu_triều_tiên\nĐốc_thúc\nk_shanmugam\nhữu_vượng\nthuế_hải_phòng\nhuỳnh_ngọc_phiên\nnhắm_mắt_trao_thân\nmodrić\ncichero\nnguyễn_quốc_vy_liêm\narp\ndeplitation\ncấp_Ủy\nhọc_toán\nsan_gabriel\nionic\nheneiken\nhai_lam_trường\nnguyễn_năng_thể\nhealite\n$aud\nhollywood_robert_parks_valletta\nfadil_berisha\nchÍnh_trỊ\ncreat\nyang_huiyan\na_Đ\nmôi_trường_xanh\nmai_Đình_anh\nlimonene\nhạng_võ\nfluconazole\nbarca_b\ndao_díp\nbulent_arinc\nnguyễn_văn_lan\nthị_phi_nga\ntán_thể\nphạm_minh_phương\nchimelong\nnguyễn_tiến_luận\nxbmc\ntoiyeuloptoi\nbình_việt_Đức\ncosta_mesa\nguelph\nchùa_Đá_trắng\nlệt\nhoàng_sĩ_hóa\nphi_lộ\neun_ho\ninosinate\njean_harlow\ntrường_minh\nma_văn_tuấn\nbinhphap\nnielson\ncanahada\ncane\napple_mac_pro\ntheo_thanhnien\ncục_tác\nbùi_minh\ndao_thanh_y\ningusetia\nwilliam_taylor\ntấn_công_nguyên_tử\nparadise_suites\nmarmara\nattila_elizabeth_smart_idle\nlỪa\nirfan_bachdim\nheidegger\nhealing\nĐiền_tráng_tráng\nmỹ_michael_michalak\nsủng_trà\nsangeeta\nkavli\npadovano\nmai_trắng\nphan_trọng_phức\nselected\nthân_văn_thọ\ngakushuin\njamaal_lascelles\nbốn_trăm\nreactive\ntuệ_doanh\nluyền\ntoÀn_quỐc\nwildlist\nvũng_tàu_marina\ndirectory\nbất_lão\ny_định\nsán_chí\ntạ_văn_toàn\nđáy_đôi\nmỹ_viện_trợ\nloni\nnics\nliễu_vân_long\npermi\nyvette_trà\npress_association\nvortex\narne\nĐà_nẵng_riverside\nxím_vàng\nkazim_benzema\nrossell\nquang_hiển\nkgf\nlê_viết_thuật\nluciano_spaletti\njovial\npof\nyuma_asami\nfingal\nhyundai_sonata_hybrid\nnew_york_film_academy\njeju_air\nĐại_nam_quốc\naustralian_financial_review\nmẫu_tây_thiên\nvương_tâm\nxavc\nnineveh\njeffs\ntim_clark\nthat_demon_within\nperez_lasa\ntròn_vành\nhồ_minh_phương\nlê_xuân_Đại\nphạm_thái_hà\ngiant_interactive\ncui_tiankai\ndaiwa_house\ntesla_roadster\nliberal_arts\ngomtv\nviewty\nlaura_vanderkam\nlê_thúy_nga\nwaqf_board\nbradenton\ntccv\nmipec_riverside\nsize=\nnghỈ\nmisse_beqiri\nĐỗ_thị_phượng\nÔ_truy\nprius_c\ncuối_xóm\nrebecca_torr\nlý_kính_hiền\ntaseer\nừm\nkavcic\nwillem_dafoe\nbowie\nhồng_liệt\nĐinh_công_lợi\naudacity\ndicentral\nblack_panther\ncánh_gió\nnguyễn_hùng_lân\nsalvador_allende\npeter_bickerton\nhuỳnh_ngọc_nga\nit_hurts\nlannia\nphạm_hà_thanh\ndeere\nshattuck\nlê_văn_bắc\nĐgt\nchày_lập\ndaelim\nmike_markkula\ntriều_kaesong\nvilao\nmagic_trackpad\nla_ha_dong\nkbm\nhtkk\nferdinand_piech\ntrần_ngọc_phương\nnguyễn_trí_hưng\ncửa_bé\ntuyển_argentina\nbình_tiến\nhuỳnh_văn_hoàng\nĐoàn_thị_nguyên\npháp_luật_online\nindrani\nvideo_music_award\ncharupong_ruangsuwan\ncarl_medjani\ncải_bó\nhà_thanh_hùng\nsung_yoo_ri\nthe_read_school\ntrịnh_văn_trường\ntrần_ngọc_vân\nskylab\npalaniappan_chidambaram\nrossiya_segodnya\nhoàng_Đức_hùng\nhơng\nnewyork_daily_news\nphạm_tứ_phương\nthuận_thành_an\ntriệu_văn_sáng\ntoni_freixa\nnhật_a\nlê_xuân_lộc\nhà_phước\namerican_tourister\ntiên_ma_lục\nhappy_hour\ncả_man_city\nnam_kuk_hyeon\nmohan_ranganathan\nfenin\njon_kortajarena\nhadjuk_split\ntermsak_chalermpalanupap\nhả_lòng\nbillboard_mỹ\nchâu_tế\ncung_co\nkengo_nakamura\njacquelyn_ngô\nrussian_roulette\njeff_green\nchimay\nsouth_yorkshire\nnậm_tăm\npharaohs\npop_justin_bieber\nart_hogan\nxa_mạc\nlân_sư\nkpop_lượt\nvũ_thị_bích_ngọc\nkhào\nphạm_việt_tùng\ngurung\nviking_air\njalan_rajah\ndean_whitehead\nvivax\nnacional_asuncion\nscientific\nmaruchi_sun_steel\npharell_williams\ndưỡng_móng\ncharoen_pokphand\nliệu_barca\nireland_brian_cowen\ncuisia\nbildt\nkhoa_Đông\ncaleb_walker\nmitchell_weiser\nnặm_lung\nrtp\nhồ_sỹ_hoàng_hải\npower_group_limited\ngalleon_group\nxùy\nxbớc\nflavonol\nscrubs\ntrẻ_thái_lan\nanya_ayoung_chee\ntom_keenan\nquan_cách_mạng\nnam_ukraina\nbitter\nbách_linh\ntriều_nghi\ntrị_giá_vốn\nvinconex\nngự_dội\nberserker\nlo_tính\ntrinh_thi\ntrương_nhật_hưng\na_witch\nduy_lý_trí\ntrương_ngọc\nbaselli\nalphanam_food\nkelly_pang\numass_boston\nchâu_Âu_airbus\ngargiulo\nfortigate\nphạm_thị_thuận\nsteve_gerrard\nlepidium_meyenii\nlưu_huy_biên\ndương_thành_trung\nnậm_cáy\ncancellara\nmedical_news_today\nvmdƯ\nklassy\nchristopher_pineda\nrecover\nnewnew\ngluconic\nnguyễn_Đình_hồng\nnguyễn_ngọc_cẩm\nhaitac\nlaura_chinchilla\nđơn_vị_chi\nfinancing\nlee_dong\npatria_nemo\ndewi_sukarno\nkce\ntính_bán_nghi\nroyal_albert_hall\nhaiza\njoel_miggler\nĐồng_hóa\nĐào_quang_tiến\nanthcm\nnguyễn_hồng_long\nhà_nội_hà_nội\ntrần_quang_chiến\ntrẦn_thanh\ncĐv_arsenal\nschwartzel\njörg\npoyais\nthi_đấu_trận_đấu\nhoàng_mai_anh\ncao_rắn\nquần_hôn\nhyundai_asan\niggy\nmonuments_men\nláng_nhớt\nlove_letter\nbonet\nĐinh_văn_chỉnh\nlê_thị_thanh_tâm\nwallner\nhuỳnh_văn_dũng\nneil_mawston\nqik\nkhô_khô\nsinh:\nkierran_gibbs\nnhà_tập_thể_dục\nlương_sản_phẩm\nvesna\nahmed_wali_karzai\nthree_kings\ngvc\nsimon_ostrovsky\nquintana_roo\narchuleta\nchoi_min_sik\nhương_tươi\nngô_ra_khoai\nhudong\njabari\njimmy_sanchez\nlê_phan_kim_thoa\nlâm_hiếu_minh\ntố_tụng_nước\nliệ\nlẫn_cẫn\ny_đúc\nceravolo\ncalzone\ntrichomoniasis\nduy_dũng\ncứu_trợ_từ\ntháp_thượng_hải\nmỹ_thạnh_trung\nterlizzi\nnăm_nhã\nvauban\ntrần_lê_văn\nsam_tạng\nĐá_tây_b\nvịnh_xuân_quyền\neliteone\nmoney_gram\nmai_sean_cang\nan_nhơn_tweet_xem\nmạch_lâm\nguy_lacombe\nĐào_chi_anh\nvqgct\nalice_springs\ndiệp_tiên\nsữa_abbott\naml\njandali\ntùy_tâm\nvào_nhà\nmặt_trái_đất\nbộ_pháp\nohayon\nvị_trí_trí\ncồn_trứng\ndương_thị_ngọc\nworldpayzinc\nsancoso\ngsat\nquần_vinh\nmomofuku_ando\ngia_kính\nvồng_vổng\nbluesport\nĐinh_quang_tỉnh\ndoxorubicin\nbnn&ptnt\nphúc_nhạc\nlương_văn_tuyến\npropan\ntable&gt\nngô_thị_thúy_hằng\nxà_phòng_không\nselma_blair\n–tass\nanwar_sadat\ndwight_howard\nphạm_thị_phan_chính\nbosozoku\nzalipie\nđ&oacute\nhồ_thị_h\nnguyễn_lập\nquốc_tế_tranh\nset_fire\nmai_văn_thắng\nterrain_response\nanagabriela_espinoza\nliên_xuân\npiyapong_pue\nbing_crosby\npaul_george\nlee_charie\nĐôn_phong\nhoài_hoài\nnăm_mỹ\ndavid_rockefeller\nvhost\nđiệu_điệu\njang_woo\nlusaka\nminks\nkgcc\nhuỳnh_phước_hiệp\nlòng_hồ\nĐăng_lê\nrosiglitazone\ntuân_chính\ntiêng_tiếc\ncơ_hội_trưởng_thành\ndạ_dày_rỗng\ncincinati\nactos\nthuduchouse\nduekoue\nngỌc_hẬu\nlàm_dầm\nsupersie\nvàng_taekwondo_lượt\nloại_bỏ_mối\nbồi_bút\nodaiba\nhoàng_minh_chiến\nchu_bạch_dương\ndương_Đình_bằng\nblows\nfpt_online\ngear_solo\nlydia_li_ya_cheah\ndoxycyclin\nchelsy_davy\nnam_hóa\nranicki\nserra_ferrer\nrene_krhin\nnguyễn_thị_huyền_như\nvoici\nù_ù_cạc_cạc\ntây_hà_nội\nchristian_traesch\nhnktqt\nđậm_đậm\nsagi\n_tây_nguyên\nlê_khắc_cường\nđẩy_lại\nnguyễn_xuân_hiển\ntân_hà_nội\nphong_cốc\nỞ_hy_lạp\ndương_dĩnh\npratley\ninnofill\nnutricula\nneg\nthierry_blanc\ntết_Đoan_ngọ\nanabolic\nhàng_hải_thượng_hải\nbutterfield\nvicent_bossou\nhồ_văn_cường\nngoài_eto\nnam_kha\ntranh_phản\nnguyễn_huyền_dịu\neurowindow_multicomplex\nphù_hợp_đồng_thời\nhealth_news\nduke_nukem\njohn_krafcik\nkim_kyoung\nbâc\ninterpreter\ntÙng_quang\n_Đen\nđồ_ăn_không\n\nhato\nlegend_of_silkroad\nentertainer\nlu_han\ntạm_tuyển\nbé_nhi\nruckus\nnguyễn_quốc_trường\nyouri_djorkaeff\ncaine\nsùng_a_trư\nsonia_perez_llanzon\nÉn_bạc\nthanh_tra_bộ\nkorean_airlines\noscar_ramiro\nstott\ntiếp_tục_tục\nĐông_sussex\n>sold\ntrần_quốc_tấn\nnguyễn_ngọc_quân\nplatium_residence\nhồ_thị_mang\nsusanne_klatten\nĐắc_trung\nhikaru_nakamura\nthe_look\nmime\nsư_thái\ncarolina_wozniacki\npbb\nacelife\nandrew_zimmern\nnhân_dân_phòng\ntẩt\nmighty\ntrần_kiều_oanh\nngô_thế_oanh\nĐông_hồng\nbir_seba\nmen_nguyen\ncarl_larsson\ngaltier\nroger_waters\npathmanathan\nphayao\nchợ_nành\nsàigòn\ncảnh_giới_từ\nnguyễn_trọng_chức\nhajnal\nhà_nội_công\nnguyễn_khắc_nam\nlâm_Đông_vượng\nvũ_lan\nĐắc_vy\ntrần_văn_dần\ndamo\nĐồng_sự\nvũ_văn_Điệp\nkumada_yoshinori\ninsidious_gaming\nbitcoincharts\nhân_nhiên\nhang_luồn\nthành_lan\nnguyễn_quốc_tuyến\nkizi\nvị_quân\nvô_thanh\nhoàng_thị_trà\nians\nnguyễn_thị_vân_chi\nthiên_nhi\nmahal\nmeij\nbenjani_mwaruwari\nmỹ_ray\ncampion\nĐinh_thị_hoa\nkannapat_worabawormpat\nkorsakoff\ndương_thị_kim_liên\nlê_Điềm\nserb\nquây_sơn\nnguyễn_công_tài\nphủi_phủi\nhoài_châu_bắc\ntÂn_sỬu\ntpt\nÝ_Đảng\nlÊ_vinh\nfeast\nchÚng_ta\nsenbei\nndg\nhai_Ánh\nbilling\nnguyễn_thu_hợp\njauhari\nbích_lệ\nĐặng_thanh_thủy\nmật_sơn\nrạch_kiến\nnshn\nnicola_formichetti\nkiew\nlong_châu_châu\nthanh_y\nsừng_nang_lông\nchlorpyrifos\nsecretariat\nmosuo\nhồng_nhật\nphạm_văn_tý\nfun_cup\nliệt_sơn\nchâu_lập_ba\nchính_quy_định\nvàng_cốm\nausten\nsreeram_chaulia\nmã_hiểu_thiên\nolympic_turin\ncarneiro\ndefocus\nbạc_qua_qua\ngrant_holt\nkhuyên_lơn\nstory_album\ntruyền_thuyết_Ảnh_tử\ndancers\nthe_teacher\ntoyota_hiace_commuter\nrosie_rushton\nsỨc_mẠnh\nfife\nvấn_đề_tài_khóa\nnguyễn_diệp\nlê_thái_vân_thanh\nmai_thị_hồng\ngrigorieva\nsaeed_jalili\nthan_mỏ\nnguyễn_thạch\nlý_hóa\nhua_nan\ntrăng_treo\nlờ_lờ\ncoronel\nktatmt\nadam_szalai\nthượng_Đồng\nvườn_hoa\ntrần_Đình_thu\nhồ_Đức_sâm\nbùi_sỹ_hồng\njiro_dreams\nporsche_cajun\nackermann\nvrs\nvõ_văn_be\nglobal_security\nsonatrach\nlim_khoy_hing\nivian\nfor_your_entertainment\nhồ_kim_lân\nbrooklyn_scrambler\nansan_danwon\ngiăng_màn\nnước_mát\nhua_chang\nli_nin\npapiermark\ndềnh_bá_cải\ntai_hồng\nphượng_kỳ\nbruno_conti\nphước_chiến\n*cũng\nnguyễn_kiều_hiếu\nĐinh_tà_gót\nhỒng_nhung\nlê_văn_ninh\ncatchy\ngregoire\npháº§n\nteardown\nđi_lạc\nchlopheniramin\nfrançaise\ngame_informer\nbơi_trải\nnguôi_nguôi\nremedy\nbambang_ervan\nphạm_quang_vĩnh\nha_gattini\nrào_giậu\nvideo_thu_thủy\nvũ_Đình_chiến\nboyer\nkimbab\nmai_thành_công\nhiếu_tâm\nsơn_chúc\nphạm_thị_bạch_yến\nuniversity_london\ntay_chân_dài\ngut\nsánh_hòa\nibi\nneust\ntrần_việt_phương\ntregear\ninterpol_thái_lan\nmột_số_đề\ntự_cống\nkim_hye_eun\nargentina_juan_monaco\nhồ_bân\nbùi_duy_cam\nphan_huy_sơn\nkhao_túc\nborrell\n_sơn_la\ngrad_sviyazhsk\nstephanie_meyer\nberjaya_land_berhad\nmountain_lion\nquách_ngọc_tuấn\nsản_xuất_nhập_khẩu\nchristian_poncelet\nnovi_petrivtsi\nchính_nam\nteplice\ncrimea_mikhail_malyshev\njoy_beauty_center\njavi_márquez\nnguyễn_Đức_vui\nbùi_Đình_long\nfixed_gear\nĐức_nhiếp_chính_vương_gyalwa_dokhampa\nngô_sỹ_the\nfomosar\njuli_zeh\nnguyễn_thị_vân_thái\nhusain\nlưu_trùng_dương\nhindustan_aeronautics\ndung_dăng_dung\ntimes_higher_education_supplement\nthầy_kim\nhội_đồng_nhân\ntăng_ly_sun\nphạm_hoài_ninh\njeffrey_sinclair\nkhÓ_khĂn\nc&p\nnguyễn_văn_tha\nleila_trabelsi\nshortlist\nĐặng_tuấn\nsergei_korotkov\nthiopental\nstaten\nngữ_văn_trường\nhà_thị_hương\naustralia_tin\nhonda_scoopy\nvloger\nphim_dòng\nsawyer\ntrần_tấn_phát\nuột\ndnghvn\nclip_tuấn_hưng\ndương_vi_khoa\nĐặng_thanh\noxy_hoá\ncÀ\nconstant_djakpa\nmost_active_issuing_bank\npatricia_krentcil\nsĩ_luân\nterabit\nviên_chi\nraizo\nĐông_ngũ\ntuận\ndevaux\nthần_cung\ntrần_văn_dấn\nkhcl\ntouchtronic\nacqui\nchiều_dài\nmelanie_brown\nfootballdirectnews\ntôn_chí_hạo\nĐưng_k\nhữu_cơ_mà\nthanh_trâm\neject\nlê_thị_d\nlý_vĩnh_hào\nrafael_benítez\nsteward\nkiếm_Ảnh\nseung_hun\nnguyên_hạt\ntrần_lại_nam\nseeking_alpha\ninvoice\ntscs\nlỬa\nafet\nhoằng_quang\nprotas\nnhư_Ánh\nlâm_hoa\ncúu\nthấy_cường\nthÔng\nnhiễm_c\nmatthew_osborne\nlaugh\ndeployment\nthe_canary\ncan_phi\ntây_berlin\nbikram_yoga\nthóa\nhợp_đồng_đều\ncatherine_Đại_đế\nroncaglia\nlevon_aronian\nroát\nĐức_frank\nazubuike_egwuekwe\nquan_duyệt\nyang_haifei\nvanja_milinkovic\nthần_tình\nselfie_orgasm\nhỏng_kiểu\nbocconi\nemmett\nlê_hải_lý\ntruyền_hình_thành_công\nsamoilova\nÂm_lệ_hoa\nanil\nkanthaka\nlâm_san\nthoa_son\nreal_union\naatrox\nkalaidos\ngrinkov\nthe_monster_ball\nbiomilk\nbồ_lý\nhoàng_hòa\nlook_up\njames_fannell\nvô_cực_bàn\nnguyễn_văn_có\nkeo_so_vann\nandrew_robinson\nhoàng_tuấn_ngọc\nômai\ntrần_văn_tự\ntưoi\nballoon_twisting\nverify\nĐỗ_xuân_huấn\nmenton\nphan_văn_thuật\ncửa_đình\niframe\nandrew_morton\ncallisto\ncraina\nhuỳnh_my\nnaga_siren\nnguyễn_thu_trà\nthái_thảo\nlipliner\nlaser_yag\nhuh_jung_moo\nserries\nwales_gareth_bale\nbắc_biên\nmike_pirath_nitipaisankul\nnauka\nma_diana\nvõ_văn_dự\nmã_tuyển\nnam_phi_lê_huy_hoàng\nphanxipăng\nhoogendijk\nkrueger\nnguyên_toàn\nchris_cooper\nmoskova\ndawah\ncá_nhân_nhân\nmai_trọng_Đức\nngành_ngành\nbé_nguyệt_cát\ncách_cách_cát_tường\nantioch\nhội_đồng_đại_diện\nĐinh_trang_thượng\nleboeuf\nsằn\nnormura\nholst\nideal\nhải_lạng\nallo\nwitch_hunt\nsân_long_an\ndân_ukraine\nchu_văn_hoài\nnguyễn_thị_bưởi\nviệt_Á_bank\nchữ_số_tự_nhiên\nbde\nsanga\nbeyrle\ntrương_hoàng_lương\nisolation\nsingapore_tharman_shanmugaratnam\nduang\nunited_state_patent\ntrần_văn_vân\nkaolin\nkawaga\nwalter_steinmeier\ncathay_united\nhoàng_bảo_châu\nlê_thanh_hiền\nbảo_mật_danh_tiếng\ntiền_định_kỳ\nn&g\nkim_y\nphạm_bá_tùng\nkelly_burgess\nsacombank_biên_phòng\nnguyễn_văn_vỹ\nĐăk_sao\ncertain\nleroi\noằn_oại\nvõ_văn_thêm\nhonda_pilot\n–bộ\nnguyễn_Đình_thuần\ntúc_Đán\ndgse\nnguyễn_thị_như_hoa\ncapital_garden\nĐồng_xuân_lâm\nlekphu\nĐặng_thị_ngọc_huyền\nperimeter\nbikervietnam\nfilip_lesniak\nnguyễn_thị_dư\nnữ_nữ\nkyu_jong\nsureprevent\nlara_fabian\ntrần_hữu_tài\ntăng_quốc_lập\nlinh_sugar\nbể_bờ\nhuỳnh_văn_thiên\nphạm_văn_sáng\nsaks\ngàm\nharmonix\ntreat\nsleight\ngiampaolo\nu_ma\nkornel_mundruczo\nvmts\nngoại_giao_thời\ndit\njakiro\nisotonic\nintetnet\nphan_văn_tường\nbãi_cọi\nđi_xuống\njo_soo_in\na_năng\nfantasia_barrino\ncustard\nwilliam_murray\nhà_văn_vĩnh\nmarina_kishira\neun_sung\ntám_đời\nmarcus_hahnemann\ntăng_ngọc_tuyền\nhà_văn_tám\nearphone\nbadlands\nmai_Đắc_linh\nlê_trịnh\nboillot\nwinterboard\nvũ_văn_vinh\nmai_phương_tin\nmùi_soa\noboe\nficiary\nodst\nhong_soo_hyun\nvương_bá_siêu\nthừa_huân\nall_of_me\nhiện_pháp\nhotel_sầm_sơn\nphước_hòa_kampong_thom\nlê_văn_hoành\nfreyja\ntype=\ntano_capital\nhuỳnh_thanh_hiếu\ngazprom_alexander_medvedev\nthsp\ndieter_leistner\nkhoa_báo_chí\nphạm_ngọc_chu\nhứa_thanh_bình\nquốc_tế_thiếu_nhi\ncấm_thành_lập\nĐinh_dũng\nsunrise_nha_trang\nnguyễn_văn_bài\nvũ_hoàng_lân\nĐầm_bông\nĐàm_canh\nfusarium\nyun_lukas\nxa_xa_gần_gần\nchỜ_ĐỢi\nĐào_thị_mai\nmai_quang_tuấn\nchửi_bới_vợ\npat_smear\nsyria_faisal_mekdad\nstarz\npecher\nhuy_me\nthầy_trung\nstimson\nnguyễn_Đăng_quý\nbetaglucan\nsomerfield\ndavid_geffen\nshane_bauer\nkatie_cassidy\nkhánh_giang\nvũ_việt_dũng\ndvc\ncezanne\nhồng_tuyến\ngrand_prix_anh\nmilwaukee_bucks\nsmart_filter\nura\nayxta\nardiles\nhồ_việt_hiệp\ntrang_hoxe\nalbert_gonzalez\nhindustan\nhilton_hotels_worldwide\ntiết_tháo\nsony_pictures_entertainment\nnguyễn_văn_lệnh\nnguyễn_phan_quang_minh\nngồi_ngoan\nfort_collin\nthaihabooks\nbùi_việt_anh\nbasket\njeffrey_katzenberg\nhnaau\nkoprol\ngống\nlò_văn_chiến\nhaaland\nchủ_đề_bài\ngừa\nlương_công_tuấn\nĐ_bordeaux\n*phóng\nsinh_địa_hoàng\ndomperidon\nfnca\nblum\nhoÀn_toÀn\nxog\ntăng_trưởng_thành_công\nba_thế\nĐức_mesut_oezil\nthuyến\ntư_nhân_hoá\ntáo_quân_bị\nroscoe\nlạp_antonis_samaras\nnguyễn_thế_hoàng_linh\nĐinh_trần_việt_thúy\nlai_Đồng\nrokutesou_industry\nkristie_lu_stout\nmiguel_layun\nmanganese\nphùng_thị_hồng_hà\noud\nnhắc_nhủ\ntoán_đố\nhÚt\ncasey_affleck\nnguyên_thống_đốc\norcs_must_die\ndô_lô\nlubumbashi\nrenaissance_riverside\nhào_khang\nblucerchiati"
    },
    {
     "output_type": "error",
     "ename": "KeyboardInterrupt",
     "evalue": "",
     "traceback": [
      "\u001b[0;31m---------------------------------------------------------------------------\u001b[0m",
      "\u001b[0;31mKeyboardInterrupt\u001b[0m                         Traceback (most recent call last)",
      "\u001b[0;32m<ipython-input-47-6727dd6db214>\u001b[0m in \u001b[0;36m<module>\u001b[0;34m\u001b[0m\n\u001b[1;32m      1\u001b[0m \u001b[0;32mfor\u001b[0m \u001b[0mi\u001b[0m \u001b[0;32min\u001b[0m \u001b[0membeddings_index\u001b[0m\u001b[0;34m.\u001b[0m\u001b[0mvocab\u001b[0m\u001b[0;34m:\u001b[0m\u001b[0;34m\u001b[0m\u001b[0;34m\u001b[0m\u001b[0m\n\u001b[0;32m----> 2\u001b[0;31m     \u001b[0mprint\u001b[0m\u001b[0;34m(\u001b[0m\u001b[0mi\u001b[0m\u001b[0;34m)\u001b[0m\u001b[0;34m\u001b[0m\u001b[0;34m\u001b[0m\u001b[0m\n\u001b[0m",
      "\u001b[0;32m~/.local/lib/python3.8/site-packages/ipykernel/iostream.py\u001b[0m in \u001b[0;36mwrite\u001b[0;34m(self, string)\u001b[0m\n\u001b[1;32m    400\u001b[0m                 \u001b[0mstring\u001b[0m \u001b[0;34m=\u001b[0m \u001b[0mstring\u001b[0m\u001b[0;34m.\u001b[0m\u001b[0mdecode\u001b[0m\u001b[0;34m(\u001b[0m\u001b[0mself\u001b[0m\u001b[0;34m.\u001b[0m\u001b[0mencoding\u001b[0m\u001b[0;34m,\u001b[0m \u001b[0;34m'replace'\u001b[0m\u001b[0;34m)\u001b[0m\u001b[0;34m\u001b[0m\u001b[0;34m\u001b[0m\u001b[0m\n\u001b[1;32m    401\u001b[0m \u001b[0;34m\u001b[0m\u001b[0m\n\u001b[0;32m--> 402\u001b[0;31m             \u001b[0mis_child\u001b[0m \u001b[0;34m=\u001b[0m \u001b[0;34m(\u001b[0m\u001b[0;32mnot\u001b[0m \u001b[0mself\u001b[0m\u001b[0;34m.\u001b[0m\u001b[0m_is_master_process\u001b[0m\u001b[0;34m(\u001b[0m\u001b[0;34m)\u001b[0m\u001b[0;34m)\u001b[0m\u001b[0;34m\u001b[0m\u001b[0;34m\u001b[0m\u001b[0m\n\u001b[0m\u001b[1;32m    403\u001b[0m             \u001b[0;31m# only touch the buffer in the IO thread to avoid races\u001b[0m\u001b[0;34m\u001b[0m\u001b[0;34m\u001b[0m\u001b[0;34m\u001b[0m\u001b[0m\n\u001b[1;32m    404\u001b[0m             \u001b[0mself\u001b[0m\u001b[0;34m.\u001b[0m\u001b[0mpub_thread\u001b[0m\u001b[0;34m.\u001b[0m\u001b[0mschedule\u001b[0m\u001b[0;34m(\u001b[0m\u001b[0;32mlambda\u001b[0m \u001b[0;34m:\u001b[0m \u001b[0mself\u001b[0m\u001b[0;34m.\u001b[0m\u001b[0m_buffer\u001b[0m\u001b[0;34m.\u001b[0m\u001b[0mwrite\u001b[0m\u001b[0;34m(\u001b[0m\u001b[0mstring\u001b[0m\u001b[0;34m)\u001b[0m\u001b[0;34m)\u001b[0m\u001b[0;34m\u001b[0m\u001b[0;34m\u001b[0m\u001b[0m\n",
      "\u001b[0;32m~/.local/lib/python3.8/site-packages/ipykernel/iostream.py\u001b[0m in \u001b[0;36m_is_master_process\u001b[0;34m(self)\u001b[0m\n\u001b[1;32m    309\u001b[0m \u001b[0;34m\u001b[0m\u001b[0m\n\u001b[1;32m    310\u001b[0m     \u001b[0;32mdef\u001b[0m \u001b[0m_is_master_process\u001b[0m\u001b[0;34m(\u001b[0m\u001b[0mself\u001b[0m\u001b[0;34m)\u001b[0m\u001b[0;34m:\u001b[0m\u001b[0;34m\u001b[0m\u001b[0;34m\u001b[0m\u001b[0m\n\u001b[0;32m--> 311\u001b[0;31m         \u001b[0;32mreturn\u001b[0m \u001b[0mos\u001b[0m\u001b[0;34m.\u001b[0m\u001b[0mgetpid\u001b[0m\u001b[0;34m(\u001b[0m\u001b[0;34m)\u001b[0m \u001b[0;34m==\u001b[0m \u001b[0mself\u001b[0m\u001b[0;34m.\u001b[0m\u001b[0m_master_pid\u001b[0m\u001b[0;34m\u001b[0m\u001b[0;34m\u001b[0m\u001b[0m\n\u001b[0m\u001b[1;32m    312\u001b[0m \u001b[0;34m\u001b[0m\u001b[0m\n\u001b[1;32m    313\u001b[0m     \u001b[0;32mdef\u001b[0m \u001b[0mset_parent\u001b[0m\u001b[0;34m(\u001b[0m\u001b[0mself\u001b[0m\u001b[0;34m,\u001b[0m \u001b[0mparent\u001b[0m\u001b[0;34m)\u001b[0m\u001b[0;34m:\u001b[0m\u001b[0;34m\u001b[0m\u001b[0;34m\u001b[0m\u001b[0m\n",
      "\u001b[0;31mKeyboardInterrupt\u001b[0m: "
     ]
    }
   ],
   "source": [
    "for i in embeddings_index.vocab:\n",
    "    print(i)"
   ]
  },
  {
   "cell_type": "code",
   "execution_count": null,
   "metadata": {},
   "outputs": [],
   "source": []
  }
 ],
 "metadata": {
  "language_info": {
   "codemirror_mode": {
    "name": "ipython",
    "version": 3
   },
   "file_extension": ".py",
   "mimetype": "text/x-python",
   "name": "python",
   "nbconvert_exporter": "python",
   "pygments_lexer": "ipython3",
   "version": 3
  },
  "orig_nbformat": 2,
  "kernelspec": {
   "name": "python_defaultSpec_1594031014962",
   "display_name": "Python 3.8.3 64-bit"
  }
 },
 "nbformat": 4,
 "nbformat_minor": 2
}